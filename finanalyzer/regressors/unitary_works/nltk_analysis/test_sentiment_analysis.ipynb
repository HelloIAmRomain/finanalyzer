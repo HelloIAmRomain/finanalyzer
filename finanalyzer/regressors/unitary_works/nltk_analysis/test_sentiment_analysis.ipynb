{
 "cells": [
  {
   "cell_type": "markdown",
   "metadata": {},
   "source": [
    "Sentiment analysis\n",
    "------------------\n",
    "\n",
    "Ce programme est un test de Sentiment Analysis, qui sera utilisé pour analyser des tweets par la suite.\n",
    "\n",
    "Copyright © Romain DODET 2022"
   ]
  },
  {
   "cell_type": "code",
   "execution_count": 79,
   "metadata": {},
   "outputs": [],
   "source": [
    "# NLTK toolkit for sentiment analysis\n",
    "# https://www.nltk.org/howto/sentiment.html\n",
    "# https://www.nltk.org/_modules/nltk/sentiment/vader.html\n",
    "\n",
    "import pandas as pd\n",
    "import numpy as np\n",
    "import matplotlib.pyplot as plt\n",
    "import seaborn as sns\n",
    "import nltk\n",
    "from nltk.sentiment.vader import SentimentIntensityAnalyzer\n",
    "from nltk.classify import NaiveBayesClassifier\n",
    "from nltk.corpus import subjectivity\n",
    "from nltk.sentiment.util import *\n",
    "from nltk.corpus import stopwords\n",
    "from nltk.tokenize import word_tokenize\n",
    "from nltk.stem import WordNetLemmatizer\n",
    "from nltk.stem import PorterStemmer\n",
    "import string\n",
    "from nltk.sentiment import SentimentAnalyzer\n",
    "\n",
    "from sklearn.metrics import accuracy_score"
   ]
  },
  {
   "cell_type": "code",
   "execution_count": 61,
   "metadata": {},
   "outputs": [
    {
     "name": "stderr",
     "output_type": "stream",
     "text": [
      "[nltk_data] Downloading package vader_lexicon to\n",
      "[nltk_data]     C:\\Users\\jaime\\AppData\\Roaming\\nltk_data...\n",
      "[nltk_data]   Package vader_lexicon is already up-to-date!\n",
      "[nltk_data] Downloading package punkt to\n",
      "[nltk_data]     C:\\Users\\jaime\\AppData\\Roaming\\nltk_data...\n",
      "[nltk_data]   Package punkt is already up-to-date!\n",
      "[nltk_data] Downloading package subjectivity to\n",
      "[nltk_data]     C:\\Users\\jaime\\AppData\\Roaming\\nltk_data...\n",
      "[nltk_data]   Package subjectivity is already up-to-date!\n",
      "[nltk_data] Downloading package movie_reviews to\n",
      "[nltk_data]     C:\\Users\\jaime\\AppData\\Roaming\\nltk_data...\n",
      "[nltk_data]   Package movie_reviews is already up-to-date!\n",
      "[nltk_data] Downloading package stopwords to\n",
      "[nltk_data]     C:\\Users\\jaime\\AppData\\Roaming\\nltk_data...\n",
      "[nltk_data]   Package stopwords is already up-to-date!\n",
      "[nltk_data] Downloading package wordnet to\n",
      "[nltk_data]     C:\\Users\\jaime\\AppData\\Roaming\\nltk_data...\n",
      "[nltk_data]   Package wordnet is already up-to-date!\n"
     ]
    },
    {
     "data": {
      "text/plain": [
       "True"
      ]
     },
     "execution_count": 61,
     "metadata": {},
     "output_type": "execute_result"
    }
   ],
   "source": [
    "# Load data from a text corpus and convert to a pandas dataframe\n",
    "# https://www.nltk.org/_modules/nltk/corpus/reader/plaintext.html\n",
    "\n",
    "nltk.download('vader_lexicon')\n",
    "nltk.download('punkt')\n",
    "nltk.download('subjectivity')\n",
    "nltk.download('movie_reviews')\n",
    "nltk.download('stopwords')\n",
    "nltk.download('wordnet')"
   ]
  },
  {
   "cell_type": "code",
   "execution_count": 62,
   "metadata": {},
   "outputs": [
    {
     "name": "stdout",
     "output_type": "stream",
     "text": [
      "['neg', 'pos']\n"
     ]
    }
   ],
   "source": [
    "# Load data from a text corpus and convert to a pandas dataframe\n",
    "\n",
    "data = nltk.corpus.movie_reviews\n",
    "print(data.categories())"
   ]
  },
  {
   "cell_type": "code",
   "execution_count": 63,
   "metadata": {},
   "outputs": [
    {
     "name": "stdout",
     "output_type": "stream",
     "text": [
      "                  file\n",
      "0  neg/cv000_29416.txt\n",
      "1  neg/cv001_19502.txt\n",
      "2  neg/cv002_17424.txt\n",
      "3  neg/cv003_12683.txt\n",
      "4  neg/cv004_12641.txt\n"
     ]
    }
   ],
   "source": [
    "# Convert the reviews to a pandas dataframe\n",
    "\n",
    "df = pd.DataFrame(data.fileids(), columns=['file'], dtype=str)\n",
    "print(df.head())"
   ]
  },
  {
   "cell_type": "code",
   "execution_count": 64,
   "metadata": {},
   "outputs": [
    {
     "name": "stdout",
     "output_type": "stream",
     "text": [
      "plot : two teen couples go to a church party , drink and then drive . \n",
      "they get into an accident . \n",
      "one of the guys dies , but his girlfriend continues to see him in her life , and has nightmares . \n",
      "what's the deal ? \n",
      "watch the movie and \" sorta \" find out . . . \n",
      "critique : a mind-fuck movie for the teen generation that touches on a very cool idea , but presents it in a very bad package . \n",
      "which is what makes this review an even harder one to write , since i generally applaud films which attempt to break the mold , mess with your head and such ( lost highway & memento ) , but there are good and bad ways of making all types of films , and these folks just didn't snag this one correctly . \n",
      "they seem to have taken this pretty neat concept , but executed it terribly . \n",
      "so what are the problems with the movie ? \n",
      "well , its main problem is that it's simply too jumbled . \n",
      "it starts off \" normal \" but then downshifts into this \" fantasy \" world in which you , as an audience member , have no idea what's going on . \n",
      "there are dreams , there are characters coming back from the dead , there are others who look like the dead , there are strange apparitions , there are disappearances , there are a looooot of chase scenes , there are tons of weird things that happen , and most of it is simply not explained . \n",
      "now i personally don't mind trying to unravel a film every now and then , but when all it does is give me the same clue over and over again , i get kind of fed up after a while , which is this film's biggest problem . \n",
      "it's obviously got this big secret to hide , but it seems to want to hide it completely until its final five minutes . \n",
      "and do they make things entertaining , thrilling or even engaging , in the meantime ? \n",
      "not really . \n",
      "the sad part is that the arrow and i both dig on flicks like this , so we actually figured most of it out by the half-way point , so all of the strangeness after that did start to make a little bit of sense , but it still didn't the make the film all that more entertaining . \n",
      "i guess the bottom line with movies like this is that you should always make sure that the audience is \" into it \" even before they are given the secret password to enter your world of understanding . \n",
      "i mean , showing melissa sagemiller running away from visions for about 20 minutes throughout the movie is just plain lazy ! ! \n",
      "okay , we get it . . . there \n",
      "are people chasing her and we don't know who they are . \n",
      "do we really need to see it over and over again ? \n",
      "how about giving us different scenes offering further insight into all of the strangeness going down in the movie ? \n",
      "apparently , the studio took this film away from its director and chopped it up themselves , and it shows . \n",
      "there might've been a pretty decent teen mind-fuck movie in here somewhere , but i guess \" the suits \" decided that turning it into a music video with little edge , would make more sense . \n",
      "the actors are pretty good for the most part , although wes bentley just seemed to be playing the exact same character that he did in american beauty , only in a new neighborhood . \n",
      "but my biggest kudos go out to sagemiller , who holds her own throughout the entire film , and actually has you feeling her character's unraveling . \n",
      "overall , the film doesn't stick because it doesn't entertain , it's confusing , it rarely excites and it feels pretty redundant for most of its runtime , despite a pretty cool ending and explanation to all of the craziness that came before it . \n",
      "oh , and by the way , this is not a horror or teen slasher flick . . . it's \n",
      "just packaged to look that way because someone is apparently assuming that the genre is still hot with the kids . \n",
      "it also wrapped production two years ago and has been sitting on the shelves ever since . \n",
      "whatever . . . skip \n",
      "it ! \n",
      "where's joblo coming from ? \n",
      "a nightmare of elm street 3 ( 7/10 ) - blair witch 2 ( 7/10 ) - the crow ( 9/10 ) - the crow : salvation ( 4/10 ) - lost highway ( 10/10 ) - memento ( 10/10 ) - the others ( 9/10 ) - stir of echoes ( 8/10 ) \n",
      "\n"
     ]
    }
   ],
   "source": [
    "print(data.raw(fileids=df['file'][0]))"
   ]
  },
  {
   "cell_type": "code",
   "execution_count": 65,
   "metadata": {},
   "outputs": [],
   "source": [
    "# Add sentiment column to the dataframe\n",
    "df['sentiment'] = df['file'].apply(lambda x: x.split('/')[0]).astype(str)\n",
    "\n",
    "# Add text column to the dataframe\n",
    "df['text'] = df['file'].apply(lambda x: data.raw(x)).astype(str)"
   ]
  },
  {
   "cell_type": "code",
   "execution_count": 66,
   "metadata": {},
   "outputs": [
    {
     "data": {
      "text/html": [
       "<div>\n",
       "<style scoped>\n",
       "    .dataframe tbody tr th:only-of-type {\n",
       "        vertical-align: middle;\n",
       "    }\n",
       "\n",
       "    .dataframe tbody tr th {\n",
       "        vertical-align: top;\n",
       "    }\n",
       "\n",
       "    .dataframe thead th {\n",
       "        text-align: right;\n",
       "    }\n",
       "</style>\n",
       "<table border=\"1\" class=\"dataframe\">\n",
       "  <thead>\n",
       "    <tr style=\"text-align: right;\">\n",
       "      <th></th>\n",
       "      <th>file</th>\n",
       "      <th>sentiment</th>\n",
       "      <th>text</th>\n",
       "    </tr>\n",
       "  </thead>\n",
       "  <tbody>\n",
       "    <tr>\n",
       "      <th>0</th>\n",
       "      <td>neg/cv000_29416.txt</td>\n",
       "      <td>neg</td>\n",
       "      <td>plot : two teen couples go to a church party ,...</td>\n",
       "    </tr>\n",
       "    <tr>\n",
       "      <th>1</th>\n",
       "      <td>neg/cv001_19502.txt</td>\n",
       "      <td>neg</td>\n",
       "      <td>the happy bastard's quick movie review \\ndamn ...</td>\n",
       "    </tr>\n",
       "    <tr>\n",
       "      <th>2</th>\n",
       "      <td>neg/cv002_17424.txt</td>\n",
       "      <td>neg</td>\n",
       "      <td>it is movies like these that make a jaded movi...</td>\n",
       "    </tr>\n",
       "    <tr>\n",
       "      <th>3</th>\n",
       "      <td>neg/cv003_12683.txt</td>\n",
       "      <td>neg</td>\n",
       "      <td>\" quest for camelot \" is warner bros . ' firs...</td>\n",
       "    </tr>\n",
       "    <tr>\n",
       "      <th>4</th>\n",
       "      <td>neg/cv004_12641.txt</td>\n",
       "      <td>neg</td>\n",
       "      <td>synopsis : a mentally unstable man undergoing ...</td>\n",
       "    </tr>\n",
       "  </tbody>\n",
       "</table>\n",
       "</div>"
      ],
      "text/plain": [
       "                  file sentiment  \\\n",
       "0  neg/cv000_29416.txt       neg   \n",
       "1  neg/cv001_19502.txt       neg   \n",
       "2  neg/cv002_17424.txt       neg   \n",
       "3  neg/cv003_12683.txt       neg   \n",
       "4  neg/cv004_12641.txt       neg   \n",
       "\n",
       "                                                text  \n",
       "0  plot : two teen couples go to a church party ,...  \n",
       "1  the happy bastard's quick movie review \\ndamn ...  \n",
       "2  it is movies like these that make a jaded movi...  \n",
       "3   \" quest for camelot \" is warner bros . ' firs...  \n",
       "4  synopsis : a mentally unstable man undergoing ...  "
      ]
     },
     "execution_count": 66,
     "metadata": {},
     "output_type": "execute_result"
    }
   ],
   "source": [
    "df.head()"
   ]
  },
  {
   "cell_type": "code",
   "execution_count": 67,
   "metadata": {},
   "outputs": [
    {
     "name": "stdout",
     "output_type": "stream",
     "text": [
      "<class 'pandas.core.frame.DataFrame'>\n",
      "RangeIndex: 2000 entries, 0 to 1999\n",
      "Data columns (total 3 columns):\n",
      " #   Column     Non-Null Count  Dtype \n",
      "---  ------     --------------  ----- \n",
      " 0   file       2000 non-null   object\n",
      " 1   sentiment  2000 non-null   object\n",
      " 2   text       2000 non-null   object\n",
      "dtypes: object(3)\n",
      "memory usage: 47.0+ KB\n"
     ]
    }
   ],
   "source": [
    "# size of the dataframe in octets\n",
    "df.info()"
   ]
  },
  {
   "cell_type": "code",
   "execution_count": 68,
   "metadata": {},
   "outputs": [],
   "source": [
    "# Clean the text column by removing punctuation, stopwords, and newlines\n",
    "\n",
    "stop_words = set(stopwords.words('english'))\n",
    "lemmatizer = WordNetLemmatizer()\n",
    "stemmer = PorterStemmer()\n",
    "\n",
    "def clean_text(text):\n",
    "    text = text.translate(str.maketrans('', '', string.punctuation))\n",
    "    text = text.translate(str.maketrans('', '', string.digits))\n",
    "    text = text.lower()\n",
    "    text = text.split()\n",
    "    text = [w for w in text if not w in stop_words]\n",
    "    text = [lemmatizer.lemmatize(w) for w in text]\n",
    "    text = [stemmer.stem(w) for w in text]\n",
    "    text = ' '.join(text)\n",
    "    return text"
   ]
  },
  {
   "cell_type": "code",
   "execution_count": 69,
   "metadata": {},
   "outputs": [
    {
     "name": "stdout",
     "output_type": "stream",
     "text": [
      "plot two teen coupl go church parti drink drive get accid one guy dy girlfriend continu see life nightmar what deal watch movi sorta find critiqu mindfuck movi teen gener touch cool idea present bad packag make review even harder one write sinc gener applaud film attempt break mold mess head lost highway memento good bad way make type film folk didnt snag one correctli seem taken pretti neat concept execut terribl problem movi well main problem simpli jumbl start normal downshift fantasi world audienc member idea what go dream charact come back dead other look like dead strang apparit disappear looooot chase scene ton weird thing happen simpli explain person dont mind tri unravel film everi give clue get kind fed film biggest problem obvious got big secret hide seem want hide complet final five minut make thing entertain thrill even engag meantim realli sad part arrow dig flick like actual figur halfway point strang start make littl bit sens still didnt make film entertain guess bottom line movi like alway make sure audienc even given secret password enter world understand mean show melissa sagemil run away vision minut throughout movi plain lazi okay get peopl chase dont know realli need see give u differ scene offer insight strang go movi appar studio took film away director chop show mightv pretti decent teen mindfuck movi somewher guess suit decid turn music video littl edg would make sens actor pretti good part although we bentley seem play exact charact american beauti new neighborhood biggest kudo go sagemil hold throughout entir film actual feel charact unravel overal film doesnt stick doesnt entertain confus rare excit feel pretti redund runtim despit pretti cool end explan crazi came oh way horror teen slasher flick packag look way someon appar assum genr still hot kid also wrap product two year ago sit shelf ever sinc whatev skip where joblo come nightmar elm street blair witch crow crow salvat lost highway memento other stir echo\n"
     ]
    }
   ],
   "source": [
    "# Example of cleaning the text column\n",
    "\n",
    "text = clean_text(df['text'][0])\n",
    "print(text)"
   ]
  },
  {
   "cell_type": "code",
   "execution_count": 70,
   "metadata": {},
   "outputs": [
    {
     "name": "stdout",
     "output_type": "stream",
     "text": [
      "                  file sentiment  \\\n",
      "0  neg/cv000_29416.txt       neg   \n",
      "1  neg/cv001_19502.txt       neg   \n",
      "2  neg/cv002_17424.txt       neg   \n",
      "3  neg/cv003_12683.txt       neg   \n",
      "4  neg/cv004_12641.txt       neg   \n",
      "\n",
      "                                                text  \n",
      "0  plot two teen coupl go church parti drink driv...  \n",
      "1  happi bastard quick movi review damn yk bug go...  \n",
      "2  movi like make jade movi viewer thank invent t...  \n",
      "3  quest camelot warner bro first featurelength f...  \n",
      "4  synopsi mental unstabl man undergo psychothera...  \n"
     ]
    }
   ],
   "source": [
    "df['text'] = df['text'].apply(lambda x: clean_text(x))\n",
    "print(df.head())"
   ]
  },
  {
   "cell_type": "code",
   "execution_count": 71,
   "metadata": {},
   "outputs": [
    {
     "name": "stdout",
     "output_type": "stream",
     "text": [
      "                  file sentiment  \\\n",
      "0  neg/cv000_29416.txt       neg   \n",
      "1  neg/cv001_19502.txt       neg   \n",
      "2  neg/cv002_17424.txt       neg   \n",
      "3  neg/cv003_12683.txt       neg   \n",
      "4  neg/cv004_12641.txt       neg   \n",
      "\n",
      "                                                text  \\\n",
      "0  plot two teen coupl go church parti drink driv...   \n",
      "1  happi bastard quick movi review damn yk bug go...   \n",
      "2  movi like make jade movi viewer thank invent t...   \n",
      "3  quest camelot warner bro first featurelength f...   \n",
      "4  synopsi mental unstabl man undergo psychothera...   \n",
      "\n",
      "                                     vectorized_text  \n",
      "0  [0.0, 0.0, 0.0, 0.0, 0.0, 0.0, 0.0, 0.0, 0.0, ...  \n",
      "1  [0.0, 0.0, 0.0, 0.0, 0.0, 0.0, 0.0, 0.0, 0.0, ...  \n",
      "2  [0.0, 0.0, 0.0, 0.0, 0.0, 0.0, 0.0, 0.0, 0.0, ...  \n",
      "3  [0.0, 0.0, 0.0, 0.0, 0.0, 0.0, 0.0, 0.0, 0.0, ...  \n",
      "4  [0.0, 0.0, 0.0, 0.0, 0.0, 0.0, 0.0, 0.0, 0.0, ...  \n"
     ]
    }
   ],
   "source": [
    "# Create a new column with vectorized text\n",
    "\n",
    "from sklearn.feature_extraction.text import TfidfVectorizer\n",
    "\n",
    "vectorizer = TfidfVectorizer()\n",
    "X = vectorizer.fit_transform(df['text'])\n",
    "df['vectorized_text'] = pd.Series(X.toarray().tolist())\n",
    "\n",
    "print(df.head())"
   ]
  },
  {
   "cell_type": "code",
   "execution_count": 72,
   "metadata": {},
   "outputs": [
    {
     "name": "stdout",
     "output_type": "stream",
     "text": [
      "                  file sentiment  \\\n",
      "0  neg/cv000_29416.txt       neg   \n",
      "1  neg/cv001_19502.txt       neg   \n",
      "2  neg/cv002_17424.txt       neg   \n",
      "3  neg/cv003_12683.txt       neg   \n",
      "4  neg/cv004_12641.txt       neg   \n",
      "\n",
      "                                                text  \\\n",
      "0  plot two teen coupl go church parti drink driv...   \n",
      "1  happi bastard quick movi review damn yk bug go...   \n",
      "2  movi like make jade movi viewer thank invent t...   \n",
      "3  quest camelot warner bro first featurelength f...   \n",
      "4  synopsi mental unstabl man undergo psychothera...   \n",
      "\n",
      "                                     vectorized_text  \\\n",
      "0  [0.0, 0.0, 0.0, 0.0, 0.0, 0.0, 0.0, 0.0, 0.0, ...   \n",
      "1  [0.0, 0.0, 0.0, 0.0, 0.0, 0.0, 0.0, 0.0, 0.0, ...   \n",
      "2  [0.0, 0.0, 0.0, 0.0, 0.0, 0.0, 0.0, 0.0, 0.0, ...   \n",
      "3  [0.0, 0.0, 0.0, 0.0, 0.0, 0.0, 0.0, 0.0, 0.0, ...   \n",
      "4  [0.0, 0.0, 0.0, 0.0, 0.0, 0.0, 0.0, 0.0, 0.0, ...   \n",
      "\n",
      "                                     sentiment_score  \n",
      "0  {'neg': 0.121, 'neu': 0.748, 'pos': 0.13, 'com...  \n",
      "1  {'neg': 0.042, 'neu': 0.841, 'pos': 0.118, 'co...  \n",
      "2  {'neg': 0.104, 'neu': 0.716, 'pos': 0.18, 'com...  \n",
      "3  {'neg': 0.163, 'neu': 0.722, 'pos': 0.115, 'co...  \n",
      "4  {'neg': 0.121, 'neu': 0.779, 'pos': 0.1, 'comp...  \n"
     ]
    }
   ],
   "source": [
    "# Create a new column with the sentiment score\n",
    "\n",
    "sid = SentimentIntensityAnalyzer()\n",
    "df['sentiment_score'] = df['text'].apply(lambda x: sid.polarity_scores(x))\n",
    "print(df.head())"
   ]
  },
  {
   "cell_type": "code",
   "execution_count": 73,
   "metadata": {},
   "outputs": [],
   "source": [
    "# Create a new column with the sentiment category\n",
    "\n",
    "def sentiment_category(score):\n",
    "    if score['compound'] >= 0.:\n",
    "        return 'pos'\n",
    "    else:\n",
    "        return 'neg'"
   ]
  },
  {
   "cell_type": "code",
   "execution_count": 74,
   "metadata": {},
   "outputs": [],
   "source": [
    "df['sentiment_category'] = df['sentiment_score'].apply(lambda x: sentiment_category(x))"
   ]
  },
  {
   "cell_type": "code",
   "execution_count": 75,
   "metadata": {},
   "outputs": [
    {
     "name": "stdout",
     "output_type": "stream",
     "text": [
      "pos    1378\n",
      "neg     622\n",
      "Name: sentiment_category, dtype: int64\n",
      "     sentiment_category sentiment\n",
      "0                   neg       neg\n",
      "1                   pos       neg\n",
      "2                   pos       neg\n",
      "3                   neg       neg\n",
      "4                   neg       neg\n",
      "...                 ...       ...\n",
      "1995                pos       pos\n",
      "1996                neg       pos\n",
      "1997                neg       pos\n",
      "1998                pos       pos\n",
      "1999                pos       pos\n",
      "\n",
      "[2000 rows x 2 columns]\n"
     ]
    }
   ],
   "source": [
    "print(df['sentiment_category'].value_counts())\n",
    "print(df[['sentiment_category', 'sentiment']])"
   ]
  },
  {
   "cell_type": "code",
   "execution_count": 80,
   "metadata": {},
   "outputs": [
    {
     "name": "stdout",
     "output_type": "stream",
     "text": [
      "0.601\n"
     ]
    }
   ],
   "source": [
    "# Accuracy of the sentiment analysis\n",
    "\n",
    "print(\"Accuracy score\", accuracy_score(df['sentiment'], df['sentiment_category']))"
   ]
  },
  {
   "cell_type": "code",
   "execution_count": 100,
   "metadata": {},
   "outputs": [],
   "source": [
    "# Low accuracy of the sentiment analysis\n",
    "# --> Need to improve the cleaning of the text column\n",
    "# keep only the words that have a strong sentiment score\n",
    "\n",
    "def keep_strong_words(text, n_words=30):\n",
    "    text = text.split()\n",
    "    score_per_word = [np.abs(sid.polarity_scores(w)['compound']) for w in text]\n",
    "    best_words = np.argsort(score_per_word)[-n_words:]\n",
    "    text = [text[i] for i in best_words]\n",
    "    text = ' '.join(text)\n",
    "    return text\n",
    "\n"
   ]
  },
  {
   "cell_type": "code",
   "execution_count": 101,
   "metadata": {},
   "outputs": [
    {
     "data": {
      "text/plain": [
       "['know dont substanc flash go movi power empti movi still littl know power feel go gore within action sequenc viru bring well like like like like like damn good bastard',\n",
       " 'cut avoid cool cool cool play like like thank like like like mess clear clear suspicion rash nice progress nice nice cute wrong hand care save stolen wisdom hero best',\n",
       " 'dream bore share loss lack fan mess enthusiast mess like thrill stink error lose dull blind help talent nice good interest accident steal steal tgif danger win best dead evil',\n",
       " 'okay bore victim victim play like credit credit suspicion reject doom reject favor special good respect woo heroin save strong gain danger bad fatal bad love dead murder kill murder',\n",
       " 'like like fit fight fight fight shock fight haunt talent kiss easier better better good good better terror sucker bad horror horror horror horror assault assault assault assault great murder',\n",
       " 'play like like like like threaten shock condemn credit special lose good safe better interest sick sick trust sick kind kind horrid horror super brutal love murder murder kill kill',\n",
       " 'grant grant grant grant grant grant smile smile smile grant grant grant talent annoy annoy annoy annoy interest dread fear hand friend friend stupid bad fail laugh laugh laugh success',\n",
       " 'stop stop lost ghost conflict play drunk drunk play hooligan overload fallen difficult stronger disturb haunt temper true weak grand depress rotten pain pain sorrow puke loser superior bad cancer',\n",
       " 'lack play thank credit crap fight fight problem fault grace nice ugh annoy annoy better hope care fun bad bad bad bad fail bad champion die love killer evil kill']"
      ]
     },
     "execution_count": 101,
     "metadata": {},
     "output_type": "execute_result"
    }
   ],
   "source": [
    "[keep_strong_words(df['text'][i], 30) for i in range(1, 10)]"
   ]
  },
  {
   "cell_type": "code",
   "execution_count": 105,
   "metadata": {},
   "outputs": [
    {
     "data": {
      "text/plain": [
       "0    dont charact want weird hide hide disappear ok...\n",
       "1    kick ship back origin know dont nowher middl r...\n",
       "2    hour invent polic matter number number hard mi...\n",
       "3    chanc jessalyn warlord footstep arthur get str...\n",
       "4    stori screen throughout shown snapshot strain ...\n",
       "Name: redacted_text, dtype: object"
      ]
     },
     "execution_count": 105,
     "metadata": {},
     "output_type": "execute_result"
    }
   ],
   "source": [
    "df[\"redacted_text\"] = df[\"text\"].apply(lambda x: keep_strong_words(x, 40))\n",
    "df[\"redacted_text\"].head()"
   ]
  },
  {
   "cell_type": "code",
   "execution_count": 106,
   "metadata": {},
   "outputs": [
    {
     "name": "stdout",
     "output_type": "stream",
     "text": [
      "Accuracy score:  0.5965\n"
     ]
    }
   ],
   "source": [
    "# Now let's try again with the redacted text\n",
    "\n",
    "df['redacted_sentiment_score'] = df['redacted_text'].apply(lambda x: sid.polarity_scores(x))\n",
    "df['redacted_sentiment_category'] = df['redacted_sentiment_score'].apply(lambda x: sentiment_category(x))\n",
    "\n",
    "print(\"Accuracy score: \", accuracy_score(df['sentiment'], df['redacted_sentiment_category']))"
   ]
  },
  {
   "cell_type": "code",
   "execution_count": 111,
   "metadata": {},
   "outputs": [
    {
     "name": "stdout",
     "output_type": "stream",
     "text": [
      "(1600, 100) (400, 100)\n"
     ]
    }
   ],
   "source": [
    "# Let's use a GRU to classify the sentiment\n",
    "\n",
    "from sklearn.model_selection import train_test_split\n",
    "from sklearn.preprocessing import LabelEncoder\n",
    "\n",
    "df[\"output\"] = df[\"sentiment\"].apply(lambda x: 1 if x == \"pos\" else 0)\n",
    "df[\"output\"].head()\n",
    "\n",
    "X_train, X_test, y_train, y_test = train_test_split(df[\"text\"], df[\"output\"], test_size=0.2, random_state=42)\n",
    "\n",
    "from keras.preprocessing.text import Tokenizer\n",
    "from keras.utils import pad_sequences\n",
    "\n",
    "max_features = 20000\n",
    "maxlen = 100\n",
    "embedding_size = 128\n",
    "\n",
    "tokenizer = Tokenizer(num_words=max_features)\n",
    "tokenizer.fit_on_texts(list(X_train))\n",
    "list_tokenized_train = tokenizer.texts_to_sequences(X_train)\n",
    "list_tokenized_test = tokenizer.texts_to_sequences(X_test)\n",
    "X_train = pad_sequences(list_tokenized_train, maxlen=maxlen)\n",
    "X_test = pad_sequences(list_tokenized_test, maxlen=maxlen)\n",
    "\n",
    "print(X_train.shape, X_test.shape)"
   ]
  },
  {
   "cell_type": "code",
   "execution_count": 112,
   "metadata": {},
   "outputs": [
    {
     "name": "stdout",
     "output_type": "stream",
     "text": [
      "Model: \"sequential\"\n",
      "_________________________________________________________________\n",
      " Layer (type)                Output Shape              Param #   \n",
      "=================================================================\n",
      " embedding (Embedding)       (None, None, 128)         2560000   \n",
      "                                                                 \n",
      " bidirectional (Bidirectiona  (None, None, 64)         31104     \n",
      " l)                                                              \n",
      "                                                                 \n",
      " dropout (Dropout)           (None, None, 64)          0         \n",
      "                                                                 \n",
      " bidirectional_1 (Bidirectio  (None, 64)               18816     \n",
      " nal)                                                            \n",
      "                                                                 \n",
      " dropout_1 (Dropout)         (None, 64)                0         \n",
      "                                                                 \n",
      " dense (Dense)               (None, 1)                 65        \n",
      "                                                                 \n",
      "=================================================================\n",
      "Total params: 2,609,985\n",
      "Trainable params: 2,609,985\n",
      "Non-trainable params: 0\n",
      "_________________________________________________________________\n"
     ]
    }
   ],
   "source": [
    "# Build the model\n",
    "\n",
    "from keras.models import Sequential\n",
    "from keras.layers import Dense, Embedding, LSTM, GRU, Bidirectional, Dropout\n",
    "\n",
    "model = Sequential()\n",
    "model.add(Embedding(max_features, embedding_size))\n",
    "model.add(Bidirectional(GRU(32, return_sequences=True)))\n",
    "model.add(Dropout(0.2))\n",
    "model.add(Bidirectional(GRU(32)))\n",
    "model.add(Dropout(0.2))\n",
    "model.add(Dense(1, activation='sigmoid'))\n",
    "\n",
    "model.compile(loss='binary_crossentropy', optimizer='adam', metrics=['accuracy'])\n",
    "\n",
    "model.summary()"
   ]
  },
  {
   "cell_type": "code",
   "execution_count": 113,
   "metadata": {},
   "outputs": [
    {
     "name": "stdout",
     "output_type": "stream",
     "text": [
      "Epoch 1/10\n",
      "50/50 [==============================] - 12s 105ms/step - loss: 0.6921 - accuracy: 0.5163 - val_loss: 0.6867 - val_accuracy: 0.5975\n",
      "Epoch 2/10\n",
      "50/50 [==============================] - 4s 79ms/step - loss: 0.4977 - accuracy: 0.8581 - val_loss: 0.6046 - val_accuracy: 0.7100\n",
      "Epoch 3/10\n",
      "50/50 [==============================] - 4s 80ms/step - loss: 0.0608 - accuracy: 0.9831 - val_loss: 0.6750 - val_accuracy: 0.7225\n",
      "Epoch 4/10\n",
      "50/50 [==============================] - 4s 80ms/step - loss: 0.0082 - accuracy: 0.9981 - val_loss: 0.8446 - val_accuracy: 0.7400\n",
      "Epoch 5/10\n",
      "50/50 [==============================] - 4s 80ms/step - loss: 0.0019 - accuracy: 1.0000 - val_loss: 0.8060 - val_accuracy: 0.7500\n",
      "Epoch 6/10\n",
      "50/50 [==============================] - 4s 82ms/step - loss: 6.2979e-04 - accuracy: 1.0000 - val_loss: 0.8412 - val_accuracy: 0.7500\n",
      "Epoch 7/10\n",
      "50/50 [==============================] - 4s 82ms/step - loss: 4.1614e-04 - accuracy: 1.0000 - val_loss: 0.8742 - val_accuracy: 0.7525\n",
      "Epoch 8/10\n",
      "50/50 [==============================] - 4s 84ms/step - loss: 3.2524e-04 - accuracy: 1.0000 - val_loss: 0.8913 - val_accuracy: 0.7450\n",
      "Epoch 9/10\n",
      "50/50 [==============================] - 5s 91ms/step - loss: 0.0013 - accuracy: 0.9994 - val_loss: 0.9384 - val_accuracy: 0.7550\n",
      "Epoch 10/10\n",
      "50/50 [==============================] - 4s 90ms/step - loss: 0.0014 - accuracy: 0.9994 - val_loss: 0.9325 - val_accuracy: 0.7625\n"
     ]
    }
   ],
   "source": [
    "# Train the model\n",
    "\n",
    "batch_size = 32\n",
    "epochs = 10\n",
    "\n",
    "history = model.fit(X_train, y_train, batch_size=batch_size, epochs=epochs, validation_data=(X_test, y_test))"
   ]
  },
  {
   "cell_type": "code",
   "execution_count": 115,
   "metadata": {},
   "outputs": [
    {
     "data": {
      "image/png": "[encoded data removed]",
      "text/plain": [
       "<Figure size 432x288 with 1 Axes>"
      ]
     },
     "metadata": {
      "needs_background": "light"
     },
     "output_type": "display_data"
    }
   ],
   "source": [
    "# Plot the accuracy and loss\n",
    "\n",
    "plt.plot(history.history['accuracy'])\n",
    "plt.plot(history.history['val_accuracy'])\n",
    "plt.title('model accuracy')\n",
    "plt.ylabel('accuracy')\n",
    "plt.xlabel('epoch')\n",
    "plt.legend(['train', 'test'], loc='upper left')\n",
    "plt.show()"
   ]
  },
  {
   "cell_type": "code",
   "execution_count": 116,
   "metadata": {},
   "outputs": [
    {
     "data": {
      "image/png": "[encoded data removed]",
      "text/plain": [
       "<Figure size 432x288 with 1 Axes>"
      ]
     },
     "metadata": {
      "needs_background": "light"
     },
     "output_type": "display_data"
    }
   ],
   "source": [
    "# Plot the loss\n",
    "\n",
    "plt.plot(history.history['loss'])\n",
    "plt.plot(history.history['val_loss'])\n",
    "plt.title('model loss')\n",
    "plt.ylabel('loss')\n",
    "plt.xlabel('epoch')\n",
    "plt.legend(['train', 'test'], loc='upper left')\n",
    "plt.show()"
   ]
  },
  {
   "cell_type": "code",
   "execution_count": 119,
   "metadata": {},
   "outputs": [
    {
     "name": "stdout",
     "output_type": "stream",
     "text": [
      "13/13 [==============================] - 1s 36ms/step\n"
     ]
    },
    {
     "data": {
      "image/png": "[encoded data removed]",
      "text/plain": [
       "<Figure size 432x288 with 2 Axes>"
      ]
     },
     "metadata": {
      "needs_background": "light"
     },
     "output_type": "display_data"
    }
   ],
   "source": [
    "# Show the confusion matrix\n",
    "\n",
    "from sklearn.metrics import confusion_matrix\n",
    "\n",
    "y_pred = model.predict(X_test)\n",
    "y_pred = (y_pred > 0.5).astype(int)\n",
    "\n",
    "cm = confusion_matrix(y_test, y_pred)\n",
    "\n",
    "import seaborn as sns\n",
    "\n",
    "sns.heatmap(cm, annot=True, fmt=\"d\")\n",
    "plt.title(\"Confusion matrix\")\n",
    "plt.ylabel('True class')\n",
    "plt.xlabel('Predicted class')\n",
    "plt.show()"
   ]
  },
  {
   "cell_type": "code",
   "execution_count": 124,
   "metadata": {},
   "outputs": [
    {
     "name": "stdout",
     "output_type": "stream",
     "text": [
      "1/1 [==============================] - 0s 82ms/step\n"
     ]
    },
    {
     "data": {
      "image/png": "[encoded data removed]",
      "text/plain": [
       "<Figure size 432x288 with 2 Axes>"
      ]
     },
     "metadata": {
      "needs_background": "light"
     },
     "output_type": "display_data"
    },
    {
     "data": {
      "text/plain": [
       "0.8"
      ]
     },
     "execution_count": 124,
     "metadata": {},
     "output_type": "execute_result"
    }
   ],
   "source": [
    "# Test the model with a new review from IMDB\n",
    "\n",
    "list_good_reviews = [\n",
    "    \"This movie was awesome! The acting was great, plot was wonderful, and there were pythons...so yea!\",\n",
    "    \"I really liked this movie because the story was so good. The characters were likable and the dialog was great.\",\n",
    "    \"I thought the movie was going to be bad but it was actually one of the best movies I've ever watched.\",\n",
    "    \"This movie is amazing because the ending was so great and it had so much action.\",\n",
    "    \"This movie was so awesome! The ending was great, it had amazing effects, and the story was wonderful.\",\n",
    "    \"This movie was great! I really liked the story and the ending was amazing. Also the action was great.\",\n",
    "]\n",
    "\n",
    "list_bad_reviews = [\n",
    "    \"This movie sucked. I slept through it. The acting was terrible and I want my money back.\",\n",
    "    \"This movie was bad. The story was terrible and the characters were unlikable. I wouldn't recommend it.\",\n",
    "    \"Wow! This was so bad. I couldn't believe how bad the acting was. I wouldn't recommend this movie.\",\n",
    "    \"I couldn't believe how bad the acting was. I wouldn't recommend this movie, even to my worst enemy.\",\n",
    "]\n",
    "\n",
    "new_reviews = list_good_reviews + list_bad_reviews\n",
    "\n",
    "y_test = [1] * len(list_good_reviews) + [0] * len(list_bad_reviews)\n",
    "\n",
    "new_reviews = tokenizer.texts_to_sequences(new_reviews)\n",
    "new_reviews = pad_sequences(new_reviews, maxlen=maxlen)\n",
    "\n",
    "y_pred = model.predict(new_reviews)\n",
    "y_pred = (y_pred > 0.5).astype(int)\n",
    "\n",
    "cm = confusion_matrix(y_test, y_pred)\n",
    "\n",
    "sns.heatmap(cm, annot=True, fmt=\"d\")\n",
    "plt.title(\"Confusion matrix\")\n",
    "plt.ylabel('True class')\n",
    "plt.xlabel('Predicted class')\n",
    "plt.show()\n",
    "\n",
    "accuracy_score(y_test, y_pred)"
   ]
  }
 ],
 "metadata": {
  "kernelspec": {
   "display_name": "Python 3.9.7 ('base')",
   "language": "python",
   "name": "python3"
  },
  "language_info": {
   "codemirror_mode": {
    "name": "ipython",
    "version": 3
   },
   "file_extension": ".py",
   "mimetype": "text/x-python",
   "name": "python",
   "nbconvert_exporter": "python",
   "pygments_lexer": "ipython3",
   "version": "3.9.7"
  },
  "orig_nbformat": 4,
  "vscode": {
   "interpreter": {
    "hash": "ad2bdc8ecc057115af97d19610ffacc2b4e99fae6737bb82f5d7fb13d2f2c186"
   }
  }
 },
 "nbformat": 4,
 "nbformat_minor": 2
}
